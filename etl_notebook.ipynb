{
 "cells": [
  {
   "cell_type": "code",
   "execution_count": 87,
   "metadata": {},
   "outputs": [],
   "source": [
    "import pandas as pd\n",
    "from sqlalchemy import create_engine"
   ]
  },
  {
   "cell_type": "code",
   "execution_count": 4,
   "metadata": {},
   "outputs": [],
   "source": [
    "select_cities=pd.read_csv(\"Average Temperature of Cities.csv\", encoding='latin1')\n",
    "all_cities=pd.read_csv(\"cities15000.csv\", encoding='latin1')\n",
    "country_codes=pd.read_csv(\"country_code.csv\",encoding='latin1')"
   ]
  },
  {
   "cell_type": "code",
   "execution_count": 5,
   "metadata": {},
   "outputs": [
    {
     "data": {
      "text/html": [
       "<div>\n",
       "<style scoped>\n",
       "    .dataframe tbody tr th:only-of-type {\n",
       "        vertical-align: middle;\n",
       "    }\n",
       "\n",
       "    .dataframe tbody tr th {\n",
       "        vertical-align: top;\n",
       "    }\n",
       "\n",
       "    .dataframe thead th {\n",
       "        text-align: right;\n",
       "    }\n",
       "</style>\n",
       "<table border=\"1\" class=\"dataframe\">\n",
       "  <thead>\n",
       "    <tr style=\"text-align: right;\">\n",
       "      <th></th>\n",
       "      <th>Country</th>\n",
       "      <th>City</th>\n",
       "      <th>Jan</th>\n",
       "      <th>Feb</th>\n",
       "      <th>Mar</th>\n",
       "      <th>Apr</th>\n",
       "      <th>May</th>\n",
       "      <th>Jun</th>\n",
       "      <th>Jul</th>\n",
       "      <th>Aug</th>\n",
       "      <th>Sep</th>\n",
       "      <th>Oct</th>\n",
       "      <th>Nov</th>\n",
       "      <th>Dec</th>\n",
       "      <th>Year</th>\n",
       "      <th>Continent</th>\n",
       "    </tr>\n",
       "  </thead>\n",
       "  <tbody>\n",
       "    <tr>\n",
       "      <td>0</td>\n",
       "      <td>Algeria</td>\n",
       "      <td>Algiers</td>\n",
       "      <td>11.2\\n(52.2)</td>\n",
       "      <td>11.9\\n(53.4)</td>\n",
       "      <td>12.8\\n(55.0)</td>\n",
       "      <td>14.7\\n(58.5)</td>\n",
       "      <td>17.7\\n(63.9)</td>\n",
       "      <td>21.3\\n(70.3)</td>\n",
       "      <td>24.6\\n(76.3)</td>\n",
       "      <td>25.2\\n(77.4)</td>\n",
       "      <td>23.2\\n(73.8)</td>\n",
       "      <td>19.4\\n(66.9)</td>\n",
       "      <td>15.2\\n(59.4)</td>\n",
       "      <td>12.1\\n(53.8)</td>\n",
       "      <td>17.4\\n(63.3)</td>\n",
       "      <td>AFRICA</td>\n",
       "    </tr>\n",
       "    <tr>\n",
       "      <td>1</td>\n",
       "      <td>Algeria</td>\n",
       "      <td>Tamanrasset</td>\n",
       "      <td>12.8\\n(55.0)</td>\n",
       "      <td>15.0\\n(59.0)</td>\n",
       "      <td>18.1\\n(64.6)</td>\n",
       "      <td>22.2\\n(72.0)</td>\n",
       "      <td>26.1\\n(79.0)</td>\n",
       "      <td>28.9\\n(84.0)</td>\n",
       "      <td>28.7\\n(83.7)</td>\n",
       "      <td>28.2\\n(82.8)</td>\n",
       "      <td>26.5\\n(79.7)</td>\n",
       "      <td>22.4\\n(72.3)</td>\n",
       "      <td>17.3\\n(63.1)</td>\n",
       "      <td>13.9\\n(57.0)</td>\n",
       "      <td>21.7\\n(71.1)</td>\n",
       "      <td>AFRICA</td>\n",
       "    </tr>\n",
       "    <tr>\n",
       "      <td>2</td>\n",
       "      <td>Algeria</td>\n",
       "      <td>Reggane</td>\n",
       "      <td>16.0\\n(60.8)</td>\n",
       "      <td>18.2\\n(64.8)</td>\n",
       "      <td>23.1\\n(73.6)</td>\n",
       "      <td>27.9\\n(82.2)</td>\n",
       "      <td>32.2\\n(90.0)</td>\n",
       "      <td>36.4\\n(97.5)</td>\n",
       "      <td>39.8\\n(103.6)</td>\n",
       "      <td>38.4\\n(101.1)</td>\n",
       "      <td>35.5\\n(95.9)</td>\n",
       "      <td>29.2\\n(84.6)</td>\n",
       "      <td>22.0\\n(71.6)</td>\n",
       "      <td>17.8\\n(64.0)</td>\n",
       "      <td>28.3\\n(82.9)</td>\n",
       "      <td>AFRICA</td>\n",
       "    </tr>\n",
       "    <tr>\n",
       "      <td>3</td>\n",
       "      <td>Angola</td>\n",
       "      <td>Luanda</td>\n",
       "      <td>26.7\\n(80.1)</td>\n",
       "      <td>28.5\\n(83.3)</td>\n",
       "      <td>28.6\\n(83.5)</td>\n",
       "      <td>28.2\\n(82.8)</td>\n",
       "      <td>27.0\\n(80.6)</td>\n",
       "      <td>23.9\\n(75.0)</td>\n",
       "      <td>22.1\\n(71.8)</td>\n",
       "      <td>22.1\\n(71.8)</td>\n",
       "      <td>23.5\\n(74.3)</td>\n",
       "      <td>25.2\\n(77.4)</td>\n",
       "      <td>26.7\\n(80.1)</td>\n",
       "      <td>26.9\\n(80.4)</td>\n",
       "      <td>25.8\\n(78.4)</td>\n",
       "      <td>AFRICA</td>\n",
       "    </tr>\n",
       "    <tr>\n",
       "      <td>4</td>\n",
       "      <td>Benin</td>\n",
       "      <td>Cotonou</td>\n",
       "      <td>27.3\\n(81.1)</td>\n",
       "      <td>28.5\\n(83.3)</td>\n",
       "      <td>28.9\\n(84.0)</td>\n",
       "      <td>28.6\\n(83.5)</td>\n",
       "      <td>27.8\\n(82.0)</td>\n",
       "      <td>26.5\\n(79.7)</td>\n",
       "      <td>25.8\\n(78.4)</td>\n",
       "      <td>25.6\\n(78.1)</td>\n",
       "      <td>26.0\\n(78.8)</td>\n",
       "      <td>26.7\\n(80.1)</td>\n",
       "      <td>27.6\\n(81.7)</td>\n",
       "      <td>27.3\\n(81.1)</td>\n",
       "      <td>27.2\\n(81.0)</td>\n",
       "      <td>AFRICA</td>\n",
       "    </tr>\n",
       "  </tbody>\n",
       "</table>\n",
       "</div>"
      ],
      "text/plain": [
       "   Country         City           Jan           Feb           Mar  \\\n",
       "0  Algeria      Algiers  11.2\\n(52.2)  11.9\\n(53.4)  12.8\\n(55.0)   \n",
       "1  Algeria  Tamanrasset  12.8\\n(55.0)  15.0\\n(59.0)  18.1\\n(64.6)   \n",
       "2  Algeria      Reggane  16.0\\n(60.8)  18.2\\n(64.8)  23.1\\n(73.6)   \n",
       "3   Angola       Luanda  26.7\\n(80.1)  28.5\\n(83.3)  28.6\\n(83.5)   \n",
       "4    Benin      Cotonou  27.3\\n(81.1)  28.5\\n(83.3)  28.9\\n(84.0)   \n",
       "\n",
       "            Apr           May           Jun            Jul            Aug  \\\n",
       "0  14.7\\n(58.5)  17.7\\n(63.9)  21.3\\n(70.3)   24.6\\n(76.3)   25.2\\n(77.4)   \n",
       "1  22.2\\n(72.0)  26.1\\n(79.0)  28.9\\n(84.0)   28.7\\n(83.7)   28.2\\n(82.8)   \n",
       "2  27.9\\n(82.2)  32.2\\n(90.0)  36.4\\n(97.5)  39.8\\n(103.6)  38.4\\n(101.1)   \n",
       "3  28.2\\n(82.8)  27.0\\n(80.6)  23.9\\n(75.0)   22.1\\n(71.8)   22.1\\n(71.8)   \n",
       "4  28.6\\n(83.5)  27.8\\n(82.0)  26.5\\n(79.7)   25.8\\n(78.4)   25.6\\n(78.1)   \n",
       "\n",
       "            Sep           Oct           Nov           Dec          Year  \\\n",
       "0  23.2\\n(73.8)  19.4\\n(66.9)  15.2\\n(59.4)  12.1\\n(53.8)  17.4\\n(63.3)   \n",
       "1  26.5\\n(79.7)  22.4\\n(72.3)  17.3\\n(63.1)  13.9\\n(57.0)  21.7\\n(71.1)   \n",
       "2  35.5\\n(95.9)  29.2\\n(84.6)  22.0\\n(71.6)  17.8\\n(64.0)  28.3\\n(82.9)   \n",
       "3  23.5\\n(74.3)  25.2\\n(77.4)  26.7\\n(80.1)  26.9\\n(80.4)  25.8\\n(78.4)   \n",
       "4  26.0\\n(78.8)  26.7\\n(80.1)  27.6\\n(81.7)  27.3\\n(81.1)  27.2\\n(81.0)   \n",
       "\n",
       "  Continent  \n",
       "0    AFRICA  \n",
       "1    AFRICA  \n",
       "2    AFRICA  \n",
       "3    AFRICA  \n",
       "4    AFRICA  "
      ]
     },
     "execution_count": 5,
     "metadata": {},
     "output_type": "execute_result"
    }
   ],
   "source": [
    "select_cities.head()"
   ]
  },
  {
   "cell_type": "code",
   "execution_count": 6,
   "metadata": {},
   "outputs": [
    {
     "data": {
      "text/html": [
       "<div>\n",
       "<style scoped>\n",
       "    .dataframe tbody tr th:only-of-type {\n",
       "        vertical-align: middle;\n",
       "    }\n",
       "\n",
       "    .dataframe tbody tr th {\n",
       "        vertical-align: top;\n",
       "    }\n",
       "\n",
       "    .dataframe thead th {\n",
       "        text-align: right;\n",
       "    }\n",
       "</style>\n",
       "<table border=\"1\" class=\"dataframe\">\n",
       "  <thead>\n",
       "    <tr style=\"text-align: right;\">\n",
       "      <th></th>\n",
       "      <th>geonameid</th>\n",
       "      <th>name</th>\n",
       "      <th>asciiname</th>\n",
       "      <th>alternatenames</th>\n",
       "      <th>latitude</th>\n",
       "      <th>longitude</th>\n",
       "      <th>feature class</th>\n",
       "      <th>feature code</th>\n",
       "      <th>country code</th>\n",
       "      <th>cc2</th>\n",
       "      <th>admin1 code</th>\n",
       "      <th>admin2 code</th>\n",
       "      <th>admin3 code</th>\n",
       "      <th>admin4 code</th>\n",
       "      <th>population</th>\n",
       "      <th>elevation</th>\n",
       "      <th>dem</th>\n",
       "      <th>timezone</th>\n",
       "      <th>modification date</th>\n",
       "    </tr>\n",
       "  </thead>\n",
       "  <tbody>\n",
       "    <tr>\n",
       "      <td>0</td>\n",
       "      <td>3040051</td>\n",
       "      <td>les Escaldes</td>\n",
       "      <td>les Escaldes</td>\n",
       "      <td>Ehskal'des-Ehndzhordani,Escaldes,Escaldes-Engo...</td>\n",
       "      <td>42.50729</td>\n",
       "      <td>1.53414</td>\n",
       "      <td>P</td>\n",
       "      <td>PPLA</td>\n",
       "      <td>AD</td>\n",
       "      <td>NaN</td>\n",
       "      <td>8</td>\n",
       "      <td>NaN</td>\n",
       "      <td>NaN</td>\n",
       "      <td>NaN</td>\n",
       "      <td>15853</td>\n",
       "      <td>NaN</td>\n",
       "      <td>1033.0</td>\n",
       "      <td>Europe/Andorra</td>\n",
       "      <td>10/15/08</td>\n",
       "    </tr>\n",
       "    <tr>\n",
       "      <td>1</td>\n",
       "      <td>3041563</td>\n",
       "      <td>Andorra la Vella</td>\n",
       "      <td>Andorra la Vella</td>\n",
       "      <td>ALV,Ando-la-Vyey,Andora,Andora la Vela,Andora ...</td>\n",
       "      <td>42.50779</td>\n",
       "      <td>1.52109</td>\n",
       "      <td>P</td>\n",
       "      <td>PPLC</td>\n",
       "      <td>AD</td>\n",
       "      <td>NaN</td>\n",
       "      <td>7</td>\n",
       "      <td>NaN</td>\n",
       "      <td>NaN</td>\n",
       "      <td>NaN</td>\n",
       "      <td>20430</td>\n",
       "      <td>NaN</td>\n",
       "      <td>1037.0</td>\n",
       "      <td>Europe/Andorra</td>\n",
       "      <td>5/30/10</td>\n",
       "    </tr>\n",
       "    <tr>\n",
       "      <td>2</td>\n",
       "      <td>290594</td>\n",
       "      <td>Umm al Qaywayn</td>\n",
       "      <td>Umm al Qaywayn</td>\n",
       "      <td>Oumm al Qaiwain,Oumm al QaÌøwaÌøn,Um al Kawain...</td>\n",
       "      <td>25.56473</td>\n",
       "      <td>55.55517</td>\n",
       "      <td>P</td>\n",
       "      <td>PPLA</td>\n",
       "      <td>AE</td>\n",
       "      <td>NaN</td>\n",
       "      <td>7</td>\n",
       "      <td>NaN</td>\n",
       "      <td>NaN</td>\n",
       "      <td>NaN</td>\n",
       "      <td>44411</td>\n",
       "      <td>NaN</td>\n",
       "      <td>2.0</td>\n",
       "      <td>Asia/Dubai</td>\n",
       "      <td>10/7/14</td>\n",
       "    </tr>\n",
       "    <tr>\n",
       "      <td>3</td>\n",
       "      <td>291074</td>\n",
       "      <td>Ras al-Khaimah</td>\n",
       "      <td>Ras al-Khaimah</td>\n",
       "      <td>Julfa,Khaimah,RKT,Ra's al Khaymah,Ra's al-Chai...</td>\n",
       "      <td>25.78953</td>\n",
       "      <td>55.9432</td>\n",
       "      <td>P</td>\n",
       "      <td>PPLA</td>\n",
       "      <td>AE</td>\n",
       "      <td>NaN</td>\n",
       "      <td>5</td>\n",
       "      <td>NaN</td>\n",
       "      <td>NaN</td>\n",
       "      <td>NaN</td>\n",
       "      <td>115949</td>\n",
       "      <td>NaN</td>\n",
       "      <td>2.0</td>\n",
       "      <td>Asia/Dubai</td>\n",
       "      <td>12/5/15</td>\n",
       "    </tr>\n",
       "    <tr>\n",
       "      <td>4</td>\n",
       "      <td>291696</td>\n",
       "      <td>Khawr Fakkn</td>\n",
       "      <td>Khawr Fakkan</td>\n",
       "      <td>Fakkan,Fakkn,Khawr Fakkan,Khawr Fakkn,Khaw...</td>\n",
       "      <td>25.33132</td>\n",
       "      <td>56.34199</td>\n",
       "      <td>P</td>\n",
       "      <td>PPL</td>\n",
       "      <td>AE</td>\n",
       "      <td>NaN</td>\n",
       "      <td>6</td>\n",
       "      <td>NaN</td>\n",
       "      <td>NaN</td>\n",
       "      <td>NaN</td>\n",
       "      <td>33575</td>\n",
       "      <td>NaN</td>\n",
       "      <td>20.0</td>\n",
       "      <td>Asia/Dubai</td>\n",
       "      <td>10/25/13</td>\n",
       "    </tr>\n",
       "  </tbody>\n",
       "</table>\n",
       "</div>"
      ],
      "text/plain": [
       "  geonameid              name         asciiname  \\\n",
       "0   3040051      les Escaldes      les Escaldes   \n",
       "1   3041563  Andorra la Vella  Andorra la Vella   \n",
       "2    290594    Umm al Qaywayn    Umm al Qaywayn   \n",
       "3    291074    Ras al-Khaimah    Ras al-Khaimah   \n",
       "4    291696     Khawr Fakkn      Khawr Fakkan   \n",
       "\n",
       "                                      alternatenames  latitude longitude  \\\n",
       "0  Ehskal'des-Ehndzhordani,Escaldes,Escaldes-Engo...  42.50729   1.53414   \n",
       "1  ALV,Ando-la-Vyey,Andora,Andora la Vela,Andora ...  42.50779   1.52109   \n",
       "2  Oumm al Qaiwain,Oumm al QaÌøwaÌøn,Um al Kawain...  25.56473  55.55517   \n",
       "3  Julfa,Khaimah,RKT,Ra's al Khaymah,Ra's al-Chai...  25.78953   55.9432   \n",
       "4  Fakkan,Fakkn,Khawr Fakkan,Khawr Fakkn,Khaw...  25.33132  56.34199   \n",
       "\n",
       "  feature class feature code country code  cc2 admin1 code admin2 code  \\\n",
       "0             P         PPLA           AD  NaN           8         NaN   \n",
       "1             P         PPLC           AD  NaN           7         NaN   \n",
       "2             P         PPLA           AE  NaN           7         NaN   \n",
       "3             P         PPLA           AE  NaN           5         NaN   \n",
       "4             P          PPL           AE  NaN           6         NaN   \n",
       "\n",
       "  admin3 code admin4 code population elevation     dem        timezone  \\\n",
       "0         NaN         NaN      15853       NaN  1033.0  Europe/Andorra   \n",
       "1         NaN         NaN      20430       NaN  1037.0  Europe/Andorra   \n",
       "2         NaN         NaN      44411       NaN     2.0      Asia/Dubai   \n",
       "3         NaN         NaN     115949       NaN     2.0      Asia/Dubai   \n",
       "4         NaN         NaN      33575       NaN    20.0      Asia/Dubai   \n",
       "\n",
       "  modification date  \n",
       "0          10/15/08  \n",
       "1           5/30/10  \n",
       "2           10/7/14  \n",
       "3           12/5/15  \n",
       "4          10/25/13  "
      ]
     },
     "execution_count": 6,
     "metadata": {},
     "output_type": "execute_result"
    }
   ],
   "source": [
    "all_cities.head()"
   ]
  },
  {
   "cell_type": "code",
   "execution_count": 7,
   "metadata": {},
   "outputs": [],
   "source": [
    "select_df=select_cities[['Country','City','Year']]\n",
    "all_df=all_cities[['asciiname','latitude','longitude','country code','population']]"
   ]
  },
  {
   "cell_type": "code",
   "execution_count": 8,
   "metadata": {},
   "outputs": [
    {
     "data": {
      "text/html": [
       "<div>\n",
       "<style scoped>\n",
       "    .dataframe tbody tr th:only-of-type {\n",
       "        vertical-align: middle;\n",
       "    }\n",
       "\n",
       "    .dataframe tbody tr th {\n",
       "        vertical-align: top;\n",
       "    }\n",
       "\n",
       "    .dataframe thead th {\n",
       "        text-align: right;\n",
       "    }\n",
       "</style>\n",
       "<table border=\"1\" class=\"dataframe\">\n",
       "  <thead>\n",
       "    <tr style=\"text-align: right;\">\n",
       "      <th></th>\n",
       "      <th>Country</th>\n",
       "      <th>City</th>\n",
       "      <th>Year</th>\n",
       "    </tr>\n",
       "  </thead>\n",
       "  <tbody>\n",
       "    <tr>\n",
       "      <td>0</td>\n",
       "      <td>Algeria</td>\n",
       "      <td>Algiers</td>\n",
       "      <td>17.4\\n(63.3)</td>\n",
       "    </tr>\n",
       "    <tr>\n",
       "      <td>1</td>\n",
       "      <td>Algeria</td>\n",
       "      <td>Tamanrasset</td>\n",
       "      <td>21.7\\n(71.1)</td>\n",
       "    </tr>\n",
       "    <tr>\n",
       "      <td>2</td>\n",
       "      <td>Algeria</td>\n",
       "      <td>Reggane</td>\n",
       "      <td>28.3\\n(82.9)</td>\n",
       "    </tr>\n",
       "    <tr>\n",
       "      <td>3</td>\n",
       "      <td>Angola</td>\n",
       "      <td>Luanda</td>\n",
       "      <td>25.8\\n(78.4)</td>\n",
       "    </tr>\n",
       "    <tr>\n",
       "      <td>4</td>\n",
       "      <td>Benin</td>\n",
       "      <td>Cotonou</td>\n",
       "      <td>27.2\\n(81.0)</td>\n",
       "    </tr>\n",
       "    <tr>\n",
       "      <td>...</td>\n",
       "      <td>...</td>\n",
       "      <td>...</td>\n",
       "      <td>...</td>\n",
       "    </tr>\n",
       "    <tr>\n",
       "      <td>446</td>\n",
       "      <td>Peru</td>\n",
       "      <td>Lima</td>\n",
       "      <td>19.2\\n(66.6)</td>\n",
       "    </tr>\n",
       "    <tr>\n",
       "      <td>447</td>\n",
       "      <td>Peru</td>\n",
       "      <td>Piura</td>\n",
       "      <td>24.5\\n(76.1)</td>\n",
       "    </tr>\n",
       "    <tr>\n",
       "      <td>448</td>\n",
       "      <td>Suriname</td>\n",
       "      <td>Paramaribo</td>\n",
       "      <td>26.8\\n(80.2)</td>\n",
       "    </tr>\n",
       "    <tr>\n",
       "      <td>449</td>\n",
       "      <td>Uruguay</td>\n",
       "      <td>Montevideo</td>\n",
       "      <td>16.7\\n(62.1)</td>\n",
       "    </tr>\n",
       "    <tr>\n",
       "      <td>450</td>\n",
       "      <td>Venezuela</td>\n",
       "      <td>Caracas</td>\n",
       "      <td>22.0\\n(71.6)</td>\n",
       "    </tr>\n",
       "  </tbody>\n",
       "</table>\n",
       "<p>451 rows × 3 columns</p>\n",
       "</div>"
      ],
      "text/plain": [
       "       Country         City          Year\n",
       "0      Algeria      Algiers  17.4\\n(63.3)\n",
       "1      Algeria  Tamanrasset  21.7\\n(71.1)\n",
       "2      Algeria      Reggane  28.3\\n(82.9)\n",
       "3       Angola       Luanda  25.8\\n(78.4)\n",
       "4        Benin      Cotonou  27.2\\n(81.0)\n",
       "..         ...          ...           ...\n",
       "446       Peru         Lima  19.2\\n(66.6)\n",
       "447       Peru        Piura  24.5\\n(76.1)\n",
       "448   Suriname   Paramaribo  26.8\\n(80.2)\n",
       "449    Uruguay   Montevideo  16.7\\n(62.1)\n",
       "450  Venezuela      Caracas  22.0\\n(71.6)\n",
       "\n",
       "[451 rows x 3 columns]"
      ]
     },
     "execution_count": 8,
     "metadata": {},
     "output_type": "execute_result"
    }
   ],
   "source": [
    "select_df"
   ]
  },
  {
   "cell_type": "code",
   "execution_count": 9,
   "metadata": {},
   "outputs": [
    {
     "name": "stderr",
     "output_type": "stream",
     "text": [
      "/Users/iSabyasachi/opt/anaconda3/lib/python3.7/site-packages/ipykernel_launcher.py:9: SettingWithCopyWarning: \n",
      "A value is trying to be set on a copy of a slice from a DataFrame.\n",
      "Try using .loc[row_indexer,col_indexer] = value instead\n",
      "\n",
      "See the caveats in the documentation: http://pandas.pydata.org/pandas-docs/stable/user_guide/indexing.html#returning-a-view-versus-a-copy\n",
      "  if __name__ == '__main__':\n"
     ]
    }
   ],
   "source": [
    "tc=[]\n",
    "\n",
    "for index, row in select_df.iterrows():\n",
    "    x=row['Year']\n",
    "    temps=x.split('\\n')\n",
    "    tc.append(temps[0])\n",
    "    \n",
    "    \n",
    "select_df['Celsius']=tc\n",
    "\n",
    "    "
   ]
  },
  {
   "cell_type": "code",
   "execution_count": 10,
   "metadata": {},
   "outputs": [
    {
     "name": "stderr",
     "output_type": "stream",
     "text": [
      "/Users/iSabyasachi/opt/anaconda3/lib/python3.7/site-packages/pandas/core/frame.py:4102: SettingWithCopyWarning: \n",
      "A value is trying to be set on a copy of a slice from a DataFrame\n",
      "\n",
      "See the caveats in the documentation: http://pandas.pydata.org/pandas-docs/stable/user_guide/indexing.html#returning-a-view-versus-a-copy\n",
      "  errors=errors,\n"
     ]
    },
    {
     "data": {
      "text/html": [
       "<div>\n",
       "<style scoped>\n",
       "    .dataframe tbody tr th:only-of-type {\n",
       "        vertical-align: middle;\n",
       "    }\n",
       "\n",
       "    .dataframe tbody tr th {\n",
       "        vertical-align: top;\n",
       "    }\n",
       "\n",
       "    .dataframe thead th {\n",
       "        text-align: right;\n",
       "    }\n",
       "</style>\n",
       "<table border=\"1\" class=\"dataframe\">\n",
       "  <thead>\n",
       "    <tr style=\"text-align: right;\">\n",
       "      <th></th>\n",
       "      <th>Country</th>\n",
       "      <th>City</th>\n",
       "      <th>Celsius</th>\n",
       "    </tr>\n",
       "  </thead>\n",
       "  <tbody>\n",
       "    <tr>\n",
       "      <td>0</td>\n",
       "      <td>Algeria</td>\n",
       "      <td>Algiers</td>\n",
       "      <td>17.4</td>\n",
       "    </tr>\n",
       "    <tr>\n",
       "      <td>1</td>\n",
       "      <td>Algeria</td>\n",
       "      <td>Tamanrasset</td>\n",
       "      <td>21.7</td>\n",
       "    </tr>\n",
       "    <tr>\n",
       "      <td>2</td>\n",
       "      <td>Algeria</td>\n",
       "      <td>Reggane</td>\n",
       "      <td>28.3</td>\n",
       "    </tr>\n",
       "    <tr>\n",
       "      <td>3</td>\n",
       "      <td>Angola</td>\n",
       "      <td>Luanda</td>\n",
       "      <td>25.8</td>\n",
       "    </tr>\n",
       "    <tr>\n",
       "      <td>4</td>\n",
       "      <td>Benin</td>\n",
       "      <td>Cotonou</td>\n",
       "      <td>27.2</td>\n",
       "    </tr>\n",
       "    <tr>\n",
       "      <td>...</td>\n",
       "      <td>...</td>\n",
       "      <td>...</td>\n",
       "      <td>...</td>\n",
       "    </tr>\n",
       "    <tr>\n",
       "      <td>446</td>\n",
       "      <td>Peru</td>\n",
       "      <td>Lima</td>\n",
       "      <td>19.2</td>\n",
       "    </tr>\n",
       "    <tr>\n",
       "      <td>447</td>\n",
       "      <td>Peru</td>\n",
       "      <td>Piura</td>\n",
       "      <td>24.5</td>\n",
       "    </tr>\n",
       "    <tr>\n",
       "      <td>448</td>\n",
       "      <td>Suriname</td>\n",
       "      <td>Paramaribo</td>\n",
       "      <td>26.8</td>\n",
       "    </tr>\n",
       "    <tr>\n",
       "      <td>449</td>\n",
       "      <td>Uruguay</td>\n",
       "      <td>Montevideo</td>\n",
       "      <td>16.7</td>\n",
       "    </tr>\n",
       "    <tr>\n",
       "      <td>450</td>\n",
       "      <td>Venezuela</td>\n",
       "      <td>Caracas</td>\n",
       "      <td>22.0</td>\n",
       "    </tr>\n",
       "  </tbody>\n",
       "</table>\n",
       "<p>451 rows × 3 columns</p>\n",
       "</div>"
      ],
      "text/plain": [
       "       Country         City Celsius\n",
       "0      Algeria      Algiers    17.4\n",
       "1      Algeria  Tamanrasset    21.7\n",
       "2      Algeria      Reggane    28.3\n",
       "3       Angola       Luanda    25.8\n",
       "4        Benin      Cotonou    27.2\n",
       "..         ...          ...     ...\n",
       "446       Peru         Lima    19.2\n",
       "447       Peru        Piura    24.5\n",
       "448   Suriname   Paramaribo    26.8\n",
       "449    Uruguay   Montevideo    16.7\n",
       "450  Venezuela      Caracas    22.0\n",
       "\n",
       "[451 rows x 3 columns]"
      ]
     },
     "execution_count": 10,
     "metadata": {},
     "output_type": "execute_result"
    }
   ],
   "source": [
    "select_df.drop(columns=['Year'],inplace=True)\n",
    "select_df"
   ]
  },
  {
   "cell_type": "code",
   "execution_count": 11,
   "metadata": {},
   "outputs": [
    {
     "name": "stderr",
     "output_type": "stream",
     "text": [
      "/Users/iSabyasachi/opt/anaconda3/lib/python3.7/site-packages/ipykernel_launcher.py:2: SettingWithCopyWarning: \n",
      "A value is trying to be set on a copy of a slice from a DataFrame.\n",
      "Try using .loc[row_indexer,col_indexer] = value instead\n",
      "\n",
      "See the caveats in the documentation: http://pandas.pydata.org/pandas-docs/stable/user_guide/indexing.html#returning-a-view-versus-a-copy\n",
      "  \n"
     ]
    }
   ],
   "source": [
    "cel_num=pd.to_numeric(select_df['Celsius'])\n",
    "select_df['Celsius']=cel_num"
   ]
  },
  {
   "cell_type": "code",
   "execution_count": 12,
   "metadata": {},
   "outputs": [],
   "source": [
    "tf=[]\n",
    "for idx, row in select_df.iterrows():\n",
    "    x=row['Celsius']\n",
    "    y=((x/5)*9)+32\n",
    "    tf.append(round(y,1))\n",
    "   \n",
    "    "
   ]
  },
  {
   "cell_type": "code",
   "execution_count": 13,
   "metadata": {},
   "outputs": [
    {
     "name": "stderr",
     "output_type": "stream",
     "text": [
      "/Users/iSabyasachi/opt/anaconda3/lib/python3.7/site-packages/ipykernel_launcher.py:1: SettingWithCopyWarning: \n",
      "A value is trying to be set on a copy of a slice from a DataFrame.\n",
      "Try using .loc[row_indexer,col_indexer] = value instead\n",
      "\n",
      "See the caveats in the documentation: http://pandas.pydata.org/pandas-docs/stable/user_guide/indexing.html#returning-a-view-versus-a-copy\n",
      "  \"\"\"Entry point for launching an IPython kernel.\n"
     ]
    }
   ],
   "source": [
    "select_df['Fahrenheit']=tf"
   ]
  },
  {
   "cell_type": "code",
   "execution_count": 14,
   "metadata": {},
   "outputs": [
    {
     "data": {
      "text/html": [
       "<div>\n",
       "<style scoped>\n",
       "    .dataframe tbody tr th:only-of-type {\n",
       "        vertical-align: middle;\n",
       "    }\n",
       "\n",
       "    .dataframe tbody tr th {\n",
       "        vertical-align: top;\n",
       "    }\n",
       "\n",
       "    .dataframe thead th {\n",
       "        text-align: right;\n",
       "    }\n",
       "</style>\n",
       "<table border=\"1\" class=\"dataframe\">\n",
       "  <thead>\n",
       "    <tr style=\"text-align: right;\">\n",
       "      <th></th>\n",
       "      <th>Country</th>\n",
       "      <th>City</th>\n",
       "      <th>Celsius</th>\n",
       "      <th>Fahrenheit</th>\n",
       "    </tr>\n",
       "  </thead>\n",
       "  <tbody>\n",
       "    <tr>\n",
       "      <td>0</td>\n",
       "      <td>Algeria</td>\n",
       "      <td>Algiers</td>\n",
       "      <td>17.4</td>\n",
       "      <td>63.3</td>\n",
       "    </tr>\n",
       "    <tr>\n",
       "      <td>1</td>\n",
       "      <td>Algeria</td>\n",
       "      <td>Tamanrasset</td>\n",
       "      <td>21.7</td>\n",
       "      <td>71.1</td>\n",
       "    </tr>\n",
       "    <tr>\n",
       "      <td>2</td>\n",
       "      <td>Algeria</td>\n",
       "      <td>Reggane</td>\n",
       "      <td>28.3</td>\n",
       "      <td>82.9</td>\n",
       "    </tr>\n",
       "    <tr>\n",
       "      <td>3</td>\n",
       "      <td>Angola</td>\n",
       "      <td>Luanda</td>\n",
       "      <td>25.8</td>\n",
       "      <td>78.4</td>\n",
       "    </tr>\n",
       "    <tr>\n",
       "      <td>4</td>\n",
       "      <td>Benin</td>\n",
       "      <td>Cotonou</td>\n",
       "      <td>27.2</td>\n",
       "      <td>81.0</td>\n",
       "    </tr>\n",
       "    <tr>\n",
       "      <td>...</td>\n",
       "      <td>...</td>\n",
       "      <td>...</td>\n",
       "      <td>...</td>\n",
       "      <td>...</td>\n",
       "    </tr>\n",
       "    <tr>\n",
       "      <td>446</td>\n",
       "      <td>Peru</td>\n",
       "      <td>Lima</td>\n",
       "      <td>19.2</td>\n",
       "      <td>66.6</td>\n",
       "    </tr>\n",
       "    <tr>\n",
       "      <td>447</td>\n",
       "      <td>Peru</td>\n",
       "      <td>Piura</td>\n",
       "      <td>24.5</td>\n",
       "      <td>76.1</td>\n",
       "    </tr>\n",
       "    <tr>\n",
       "      <td>448</td>\n",
       "      <td>Suriname</td>\n",
       "      <td>Paramaribo</td>\n",
       "      <td>26.8</td>\n",
       "      <td>80.2</td>\n",
       "    </tr>\n",
       "    <tr>\n",
       "      <td>449</td>\n",
       "      <td>Uruguay</td>\n",
       "      <td>Montevideo</td>\n",
       "      <td>16.7</td>\n",
       "      <td>62.1</td>\n",
       "    </tr>\n",
       "    <tr>\n",
       "      <td>450</td>\n",
       "      <td>Venezuela</td>\n",
       "      <td>Caracas</td>\n",
       "      <td>22.0</td>\n",
       "      <td>71.6</td>\n",
       "    </tr>\n",
       "  </tbody>\n",
       "</table>\n",
       "<p>451 rows × 4 columns</p>\n",
       "</div>"
      ],
      "text/plain": [
       "       Country         City  Celsius  Fahrenheit\n",
       "0      Algeria      Algiers     17.4        63.3\n",
       "1      Algeria  Tamanrasset     21.7        71.1\n",
       "2      Algeria      Reggane     28.3        82.9\n",
       "3       Angola       Luanda     25.8        78.4\n",
       "4        Benin      Cotonou     27.2        81.0\n",
       "..         ...          ...      ...         ...\n",
       "446       Peru         Lima     19.2        66.6\n",
       "447       Peru        Piura     24.5        76.1\n",
       "448   Suriname   Paramaribo     26.8        80.2\n",
       "449    Uruguay   Montevideo     16.7        62.1\n",
       "450  Venezuela      Caracas     22.0        71.6\n",
       "\n",
       "[451 rows x 4 columns]"
      ]
     },
     "execution_count": 14,
     "metadata": {},
     "output_type": "execute_result"
    }
   ],
   "source": [
    "select_df"
   ]
  },
  {
   "cell_type": "code",
   "execution_count": 15,
   "metadata": {},
   "outputs": [
    {
     "data": {
      "text/html": [
       "<div>\n",
       "<style scoped>\n",
       "    .dataframe tbody tr th:only-of-type {\n",
       "        vertical-align: middle;\n",
       "    }\n",
       "\n",
       "    .dataframe tbody tr th {\n",
       "        vertical-align: top;\n",
       "    }\n",
       "\n",
       "    .dataframe thead th {\n",
       "        text-align: right;\n",
       "    }\n",
       "</style>\n",
       "<table border=\"1\" class=\"dataframe\">\n",
       "  <thead>\n",
       "    <tr style=\"text-align: right;\">\n",
       "      <th></th>\n",
       "      <th>asciiname</th>\n",
       "      <th>latitude</th>\n",
       "      <th>longitude</th>\n",
       "      <th>country code</th>\n",
       "      <th>population</th>\n",
       "    </tr>\n",
       "  </thead>\n",
       "  <tbody>\n",
       "    <tr>\n",
       "      <td>0</td>\n",
       "      <td>les Escaldes</td>\n",
       "      <td>42.50729</td>\n",
       "      <td>1.53414</td>\n",
       "      <td>AD</td>\n",
       "      <td>15853</td>\n",
       "    </tr>\n",
       "    <tr>\n",
       "      <td>1</td>\n",
       "      <td>Andorra la Vella</td>\n",
       "      <td>42.50779</td>\n",
       "      <td>1.52109</td>\n",
       "      <td>AD</td>\n",
       "      <td>20430</td>\n",
       "    </tr>\n",
       "    <tr>\n",
       "      <td>2</td>\n",
       "      <td>Umm al Qaywayn</td>\n",
       "      <td>25.56473</td>\n",
       "      <td>55.55517</td>\n",
       "      <td>AE</td>\n",
       "      <td>44411</td>\n",
       "    </tr>\n",
       "    <tr>\n",
       "      <td>3</td>\n",
       "      <td>Ras al-Khaimah</td>\n",
       "      <td>25.78953</td>\n",
       "      <td>55.9432</td>\n",
       "      <td>AE</td>\n",
       "      <td>115949</td>\n",
       "    </tr>\n",
       "    <tr>\n",
       "      <td>4</td>\n",
       "      <td>Khawr Fakkan</td>\n",
       "      <td>25.33132</td>\n",
       "      <td>56.34199</td>\n",
       "      <td>AE</td>\n",
       "      <td>33575</td>\n",
       "    </tr>\n",
       "    <tr>\n",
       "      <td>...</td>\n",
       "      <td>...</td>\n",
       "      <td>...</td>\n",
       "      <td>...</td>\n",
       "      <td>...</td>\n",
       "      <td>...</td>\n",
       "    </tr>\n",
       "    <tr>\n",
       "      <td>23464</td>\n",
       "      <td>Bulawayo</td>\n",
       "      <td>-20.15</td>\n",
       "      <td>28.58333</td>\n",
       "      <td>ZW</td>\n",
       "      <td>699385</td>\n",
       "    </tr>\n",
       "    <tr>\n",
       "      <td>23465</td>\n",
       "      <td>Bindura</td>\n",
       "      <td>-17.30192</td>\n",
       "      <td>31.33056</td>\n",
       "      <td>ZW</td>\n",
       "      <td>37423</td>\n",
       "    </tr>\n",
       "    <tr>\n",
       "      <td>23466</td>\n",
       "      <td>Beitbridge</td>\n",
       "      <td>-22.21667</td>\n",
       "      <td>30</td>\n",
       "      <td>ZW</td>\n",
       "      <td>26459</td>\n",
       "    </tr>\n",
       "    <tr>\n",
       "      <td>23467</td>\n",
       "      <td>Epworth</td>\n",
       "      <td>-17.89</td>\n",
       "      <td>31.1475</td>\n",
       "      <td>ZW</td>\n",
       "      <td>123250</td>\n",
       "    </tr>\n",
       "    <tr>\n",
       "      <td>23468</td>\n",
       "      <td>Chitungwiza</td>\n",
       "      <td>-18.01274</td>\n",
       "      <td>31.07555</td>\n",
       "      <td>ZW</td>\n",
       "      <td>340360</td>\n",
       "    </tr>\n",
       "  </tbody>\n",
       "</table>\n",
       "<p>23469 rows × 5 columns</p>\n",
       "</div>"
      ],
      "text/plain": [
       "              asciiname   latitude longitude country code population\n",
       "0          les Escaldes   42.50729   1.53414           AD      15853\n",
       "1      Andorra la Vella   42.50779   1.52109           AD      20430\n",
       "2        Umm al Qaywayn   25.56473  55.55517           AE      44411\n",
       "3        Ras al-Khaimah   25.78953   55.9432           AE     115949\n",
       "4          Khawr Fakkan   25.33132  56.34199           AE      33575\n",
       "...                 ...        ...       ...          ...        ...\n",
       "23464          Bulawayo     -20.15  28.58333           ZW     699385\n",
       "23465           Bindura  -17.30192  31.33056           ZW      37423\n",
       "23466        Beitbridge  -22.21667        30           ZW      26459\n",
       "23467           Epworth     -17.89   31.1475           ZW     123250\n",
       "23468       Chitungwiza  -18.01274  31.07555           ZW     340360\n",
       "\n",
       "[23469 rows x 5 columns]"
      ]
     },
     "execution_count": 15,
     "metadata": {},
     "output_type": "execute_result"
    }
   ],
   "source": [
    "all_df"
   ]
  },
  {
   "cell_type": "code",
   "execution_count": 16,
   "metadata": {},
   "outputs": [
    {
     "data": {
      "text/plain": [
       "False"
      ]
     },
     "execution_count": 16,
     "metadata": {},
     "output_type": "execute_result"
    }
   ],
   "source": [
    "select_df['City'].is_unique"
   ]
  },
  {
   "cell_type": "code",
   "execution_count": 17,
   "metadata": {},
   "outputs": [],
   "source": [
    "duplicate_in_select_df = select_df.duplicated(subset=['City','Country'])"
   ]
  },
  {
   "cell_type": "code",
   "execution_count": 18,
   "metadata": {},
   "outputs": [
    {
     "data": {
      "text/plain": [
       "0      False\n",
       "1      False\n",
       "2      False\n",
       "3      False\n",
       "4      False\n",
       "       ...  \n",
       "446    False\n",
       "447    False\n",
       "448    False\n",
       "449    False\n",
       "450    False\n",
       "Length: 451, dtype: bool"
      ]
     },
     "execution_count": 18,
     "metadata": {},
     "output_type": "execute_result"
    }
   ],
   "source": [
    "duplicate_in_select_df"
   ]
  },
  {
   "cell_type": "code",
   "execution_count": 19,
   "metadata": {},
   "outputs": [
    {
     "data": {
      "text/plain": [
       "0"
      ]
     },
     "execution_count": 19,
     "metadata": {},
     "output_type": "execute_result"
    }
   ],
   "source": [
    "flag=0\n",
    "for x in duplicate_in_select_df:\n",
    "    if x==True:\n",
    "        flag=1\n",
    "flag"
   ]
  },
  {
   "cell_type": "code",
   "execution_count": null,
   "metadata": {},
   "outputs": [],
   "source": [
    "s.isnull().values.any()"
   ]
  },
  {
   "cell_type": "code",
   "execution_count": null,
   "metadata": {},
   "outputs": [],
   "source": []
  },
  {
   "cell_type": "code",
   "execution_count": 103,
   "metadata": {},
   "outputs": [],
   "source": [
    "all_df=all_df.rename(columns={\"asciiname\":\"City\"})\n",
    "all_df=all_df.rename(columns={\"latitude\":\"Latitude\"})\n",
    "all_df=all_df.rename(columns={\"longitude\":\"Longitude\"})\n",
    "all_df=all_df.rename(columns={\"country code\":\"Country_Code\"})\n",
    "all_df=all_df.rename(columns={\"population\":\"Population\"})"
   ]
  },
  {
   "cell_type": "code",
   "execution_count": 104,
   "metadata": {},
   "outputs": [
    {
     "data": {
      "text/html": [
       "<div>\n",
       "<style scoped>\n",
       "    .dataframe tbody tr th:only-of-type {\n",
       "        vertical-align: middle;\n",
       "    }\n",
       "\n",
       "    .dataframe tbody tr th {\n",
       "        vertical-align: top;\n",
       "    }\n",
       "\n",
       "    .dataframe thead th {\n",
       "        text-align: right;\n",
       "    }\n",
       "</style>\n",
       "<table border=\"1\" class=\"dataframe\">\n",
       "  <thead>\n",
       "    <tr style=\"text-align: right;\">\n",
       "      <th></th>\n",
       "      <th>City</th>\n",
       "      <th>Latitude</th>\n",
       "      <th>Longitude</th>\n",
       "      <th>Country Code</th>\n",
       "      <th>Population</th>\n",
       "    </tr>\n",
       "  </thead>\n",
       "  <tbody>\n",
       "    <tr>\n",
       "      <td>0</td>\n",
       "      <td>les Escaldes</td>\n",
       "      <td>42.50729</td>\n",
       "      <td>1.53414</td>\n",
       "      <td>AD</td>\n",
       "      <td>15853</td>\n",
       "    </tr>\n",
       "    <tr>\n",
       "      <td>1</td>\n",
       "      <td>Andorra la Vella</td>\n",
       "      <td>42.50779</td>\n",
       "      <td>1.52109</td>\n",
       "      <td>AD</td>\n",
       "      <td>20430</td>\n",
       "    </tr>\n",
       "    <tr>\n",
       "      <td>2</td>\n",
       "      <td>Umm al Qaywayn</td>\n",
       "      <td>25.56473</td>\n",
       "      <td>55.55517</td>\n",
       "      <td>AE</td>\n",
       "      <td>44411</td>\n",
       "    </tr>\n",
       "    <tr>\n",
       "      <td>3</td>\n",
       "      <td>Ras al-Khaimah</td>\n",
       "      <td>25.78953</td>\n",
       "      <td>55.9432</td>\n",
       "      <td>AE</td>\n",
       "      <td>115949</td>\n",
       "    </tr>\n",
       "    <tr>\n",
       "      <td>4</td>\n",
       "      <td>Khawr Fakkan</td>\n",
       "      <td>25.33132</td>\n",
       "      <td>56.34199</td>\n",
       "      <td>AE</td>\n",
       "      <td>33575</td>\n",
       "    </tr>\n",
       "    <tr>\n",
       "      <td>...</td>\n",
       "      <td>...</td>\n",
       "      <td>...</td>\n",
       "      <td>...</td>\n",
       "      <td>...</td>\n",
       "      <td>...</td>\n",
       "    </tr>\n",
       "    <tr>\n",
       "      <td>23464</td>\n",
       "      <td>Bulawayo</td>\n",
       "      <td>-20.15</td>\n",
       "      <td>28.58333</td>\n",
       "      <td>ZW</td>\n",
       "      <td>699385</td>\n",
       "    </tr>\n",
       "    <tr>\n",
       "      <td>23465</td>\n",
       "      <td>Bindura</td>\n",
       "      <td>-17.30192</td>\n",
       "      <td>31.33056</td>\n",
       "      <td>ZW</td>\n",
       "      <td>37423</td>\n",
       "    </tr>\n",
       "    <tr>\n",
       "      <td>23466</td>\n",
       "      <td>Beitbridge</td>\n",
       "      <td>-22.21667</td>\n",
       "      <td>30</td>\n",
       "      <td>ZW</td>\n",
       "      <td>26459</td>\n",
       "    </tr>\n",
       "    <tr>\n",
       "      <td>23467</td>\n",
       "      <td>Epworth</td>\n",
       "      <td>-17.89</td>\n",
       "      <td>31.1475</td>\n",
       "      <td>ZW</td>\n",
       "      <td>123250</td>\n",
       "    </tr>\n",
       "    <tr>\n",
       "      <td>23468</td>\n",
       "      <td>Chitungwiza</td>\n",
       "      <td>-18.01274</td>\n",
       "      <td>31.07555</td>\n",
       "      <td>ZW</td>\n",
       "      <td>340360</td>\n",
       "    </tr>\n",
       "  </tbody>\n",
       "</table>\n",
       "<p>23453 rows × 5 columns</p>\n",
       "</div>"
      ],
      "text/plain": [
       "                   City   Latitude Longitude Country Code Population\n",
       "0          les Escaldes   42.50729   1.53414           AD      15853\n",
       "1      Andorra la Vella   42.50779   1.52109           AD      20430\n",
       "2        Umm al Qaywayn   25.56473  55.55517           AE      44411\n",
       "3        Ras al-Khaimah   25.78953   55.9432           AE     115949\n",
       "4          Khawr Fakkan   25.33132  56.34199           AE      33575\n",
       "...                 ...        ...       ...          ...        ...\n",
       "23464          Bulawayo     -20.15  28.58333           ZW     699385\n",
       "23465           Bindura  -17.30192  31.33056           ZW      37423\n",
       "23466        Beitbridge  -22.21667        30           ZW      26459\n",
       "23467           Epworth     -17.89   31.1475           ZW     123250\n",
       "23468       Chitungwiza  -18.01274  31.07555           ZW     340360\n",
       "\n",
       "[23453 rows x 5 columns]"
      ]
     },
     "execution_count": 104,
     "metadata": {},
     "output_type": "execute_result"
    }
   ],
   "source": [
    "all_df"
   ]
  },
  {
   "cell_type": "code",
   "execution_count": 22,
   "metadata": {},
   "outputs": [
    {
     "data": {
      "text/plain": [
       "23469"
      ]
     },
     "execution_count": 22,
     "metadata": {},
     "output_type": "execute_result"
    }
   ],
   "source": [
    "len(all_df)"
   ]
  },
  {
   "cell_type": "code",
   "execution_count": 23,
   "metadata": {},
   "outputs": [
    {
     "data": {
      "text/plain": [
       "0        False\n",
       "1        False\n",
       "2        False\n",
       "3        False\n",
       "4        False\n",
       "         ...  \n",
       "23464    False\n",
       "23465    False\n",
       "23466    False\n",
       "23467    False\n",
       "23468    False\n",
       "Length: 23469, dtype: bool"
      ]
     },
     "execution_count": 23,
     "metadata": {},
     "output_type": "execute_result"
    }
   ],
   "source": [
    "duplicate_in_all_df = all_df.duplicated(subset=['City','Country Code','Latitude','Longitude'])\n",
    "duplicate_in_all_df"
   ]
  },
  {
   "cell_type": "code",
   "execution_count": 24,
   "metadata": {},
   "outputs": [
    {
     "data": {
      "text/plain": [
       "RangeIndex(start=0, stop=23469, step=1)"
      ]
     },
     "execution_count": 24,
     "metadata": {},
     "output_type": "execute_result"
    }
   ],
   "source": [
    "duplicate_in_all_df.index"
   ]
  },
  {
   "cell_type": "code",
   "execution_count": 25,
   "metadata": {},
   "outputs": [
    {
     "data": {
      "text/plain": [
       "0"
      ]
     },
     "execution_count": 25,
     "metadata": {},
     "output_type": "execute_result"
    }
   ],
   "source": [
    "flag=0\n",
    "duplicate_rows=[]\n",
    "for x in duplicate_in_all_df:\n",
    "    if x==True:\n",
    "        flag=1\n",
    "        duplicate_rows.append(x)\n",
    "flag"
   ]
  },
  {
   "cell_type": "code",
   "execution_count": 26,
   "metadata": {},
   "outputs": [
    {
     "data": {
      "text/plain": [
       "0"
      ]
     },
     "execution_count": 26,
     "metadata": {},
     "output_type": "execute_result"
    }
   ],
   "source": [
    "len(duplicate_rows)"
   ]
  },
  {
   "cell_type": "code",
   "execution_count": 51,
   "metadata": {},
   "outputs": [
    {
     "data": {
      "text/html": [
       "<div>\n",
       "<style scoped>\n",
       "    .dataframe tbody tr th:only-of-type {\n",
       "        vertical-align: middle;\n",
       "    }\n",
       "\n",
       "    .dataframe tbody tr th {\n",
       "        vertical-align: top;\n",
       "    }\n",
       "\n",
       "    .dataframe thead th {\n",
       "        text-align: right;\n",
       "    }\n",
       "</style>\n",
       "<table border=\"1\" class=\"dataframe\">\n",
       "  <thead>\n",
       "    <tr style=\"text-align: right;\">\n",
       "      <th></th>\n",
       "      <th>Country</th>\n",
       "      <th>City</th>\n",
       "      <th>Celsius</th>\n",
       "      <th>Fahrenheit</th>\n",
       "    </tr>\n",
       "  </thead>\n",
       "  <tbody>\n",
       "  </tbody>\n",
       "</table>\n",
       "</div>"
      ],
      "text/plain": [
       "Empty DataFrame\n",
       "Columns: [Country, City, Celsius, Fahrenheit]\n",
       "Index: []"
      ]
     },
     "execution_count": 51,
     "metadata": {},
     "output_type": "execute_result"
    }
   ],
   "source": [
    "select_df[select_df['Country'].isnull()]"
   ]
  },
  {
   "cell_type": "code",
   "execution_count": 67,
   "metadata": {},
   "outputs": [
    {
     "data": {
      "text/plain": [
       "7674            Irvine\n",
       "14710    Katima Mulilo\n",
       "14711         Windhoek\n",
       "14712       Swakopmund\n",
       "14713            Rundu\n",
       "14714         Rehoboth\n",
       "14715      Otjiwarongo\n",
       "14716         Oshakati\n",
       "14717        Okahandja\n",
       "14718         Luderitz\n",
       "14719     Keetmanshoop\n",
       "14720     Grootfontein\n",
       "14721          Gobabis\n",
       "14722       Walvis Bay\n",
       "20895           Irving\n",
       "Name: City, dtype: object"
      ]
     },
     "execution_count": 67,
     "metadata": {},
     "output_type": "execute_result"
    }
   ],
   "source": [
    "all_df[all_df['Country Code'].isnull()]['City']\n"
   ]
  },
  {
   "cell_type": "code",
   "execution_count": 68,
   "metadata": {},
   "outputs": [],
   "source": [
    "null_cities=[\"Katima Mulilo\", \"Windhoek\", \"Swakopmund\", \"Rundu\", \"Rehoboth\", \"Otjiwarongo\", \"Oshakati\", \"Okahandja\", \"Luderitz\", \n",
    "             \"Keetmanshoop\", \"Grootfontein\", \"Gobabis\", \"Walvis Bay\"]"
   ]
  },
  {
   "cell_type": "code",
   "execution_count": 69,
   "metadata": {},
   "outputs": [
    {
     "data": {
      "text/html": [
       "<div>\n",
       "<style scoped>\n",
       "    .dataframe tbody tr th:only-of-type {\n",
       "        vertical-align: middle;\n",
       "    }\n",
       "\n",
       "    .dataframe tbody tr th {\n",
       "        vertical-align: top;\n",
       "    }\n",
       "\n",
       "    .dataframe thead th {\n",
       "        text-align: right;\n",
       "    }\n",
       "</style>\n",
       "<table border=\"1\" class=\"dataframe\">\n",
       "  <thead>\n",
       "    <tr style=\"text-align: right;\">\n",
       "      <th></th>\n",
       "      <th>Country</th>\n",
       "      <th>City</th>\n",
       "      <th>Celsius</th>\n",
       "      <th>Fahrenheit</th>\n",
       "    </tr>\n",
       "  </thead>\n",
       "  <tbody>\n",
       "  </tbody>\n",
       "</table>\n",
       "</div>"
      ],
      "text/plain": [
       "Empty DataFrame\n",
       "Columns: [Country, City, Celsius, Fahrenheit]\n",
       "Index: []"
      ]
     },
     "execution_count": 69,
     "metadata": {},
     "output_type": "execute_result"
    }
   ],
   "source": [
    "select_df[select_df['City'].isin(null_cities)]"
   ]
  },
  {
   "cell_type": "code",
   "execution_count": 71,
   "metadata": {},
   "outputs": [
    {
     "data": {
      "text/html": [
       "<div>\n",
       "<style scoped>\n",
       "    .dataframe tbody tr th:only-of-type {\n",
       "        vertical-align: middle;\n",
       "    }\n",
       "\n",
       "    .dataframe tbody tr th {\n",
       "        vertical-align: top;\n",
       "    }\n",
       "\n",
       "    .dataframe thead th {\n",
       "        text-align: right;\n",
       "    }\n",
       "</style>\n",
       "<table border=\"1\" class=\"dataframe\">\n",
       "  <thead>\n",
       "    <tr style=\"text-align: right;\">\n",
       "      <th></th>\n",
       "      <th>Country</th>\n",
       "      <th>City</th>\n",
       "      <th>Celsius</th>\n",
       "      <th>Fahrenheit</th>\n",
       "    </tr>\n",
       "  </thead>\n",
       "  <tbody>\n",
       "  </tbody>\n",
       "</table>\n",
       "</div>"
      ],
      "text/plain": [
       "Empty DataFrame\n",
       "Columns: [Country, City, Celsius, Fahrenheit]\n",
       "Index: []"
      ]
     },
     "execution_count": 71,
     "metadata": {},
     "output_type": "execute_result"
    }
   ],
   "source": [
    "select_df.loc[select_df['City']==\"Walvis Bay\"]"
   ]
  },
  {
   "cell_type": "code",
   "execution_count": 73,
   "metadata": {},
   "outputs": [],
   "source": [
    "\n",
    "all_df=all_df[~all_df['City'].isin(null_cities)]\n"
   ]
  },
  {
   "cell_type": "code",
   "execution_count": 74,
   "metadata": {},
   "outputs": [
    {
     "data": {
      "text/plain": [
       "7674     Irvine\n",
       "20895    Irving\n",
       "Name: City, dtype: object"
      ]
     },
     "execution_count": 74,
     "metadata": {},
     "output_type": "execute_result"
    }
   ],
   "source": [
    "all_df[all_df['Country Code'].isnull()]['City']"
   ]
  },
  {
   "cell_type": "code",
   "execution_count": 76,
   "metadata": {},
   "outputs": [],
   "source": [
    "i_list=[\"Irvine\",\"Irving\"]"
   ]
  },
  {
   "cell_type": "code",
   "execution_count": 77,
   "metadata": {},
   "outputs": [],
   "source": [
    "all_df=all_df[~all_df['City'].isin(i_list)]"
   ]
  },
  {
   "cell_type": "code",
   "execution_count": 78,
   "metadata": {},
   "outputs": [
    {
     "data": {
      "text/plain": [
       "Series([], Name: City, dtype: object)"
      ]
     },
     "execution_count": 78,
     "metadata": {},
     "output_type": "execute_result"
    }
   ],
   "source": [
    "all_df[all_df['Country Code'].isnull()]['City']"
   ]
  },
  {
   "cell_type": "code",
   "execution_count": 135,
   "metadata": {},
   "outputs": [
    {
     "data": {
      "text/plain": [
       "0"
      ]
     },
     "execution_count": 135,
     "metadata": {},
     "output_type": "execute_result"
    }
   ],
   "source": [
    "flag=0\n",
    "for idx, row in all_df.iterrows():\n",
    "    x=row['Country_Code']\n",
    "    if(len(x)!=2):\n",
    "        flag=1\n",
    "        \n",
    "flag\n",
    "    "
   ]
  },
  {
   "cell_type": "code",
   "execution_count": 80,
   "metadata": {},
   "outputs": [
    {
     "data": {
      "text/html": [
       "<div>\n",
       "<style scoped>\n",
       "    .dataframe tbody tr th:only-of-type {\n",
       "        vertical-align: middle;\n",
       "    }\n",
       "\n",
       "    .dataframe tbody tr th {\n",
       "        vertical-align: top;\n",
       "    }\n",
       "\n",
       "    .dataframe thead th {\n",
       "        text-align: right;\n",
       "    }\n",
       "</style>\n",
       "<table border=\"1\" class=\"dataframe\">\n",
       "  <thead>\n",
       "    <tr style=\"text-align: right;\">\n",
       "      <th></th>\n",
       "      <th>Unnamed: 0</th>\n",
       "      <th>Country_name</th>\n",
       "      <th>code_2digit</th>\n",
       "      <th>code_3digit</th>\n",
       "    </tr>\n",
       "  </thead>\n",
       "  <tbody>\n",
       "    <tr>\n",
       "      <td>0</td>\n",
       "      <td>2</td>\n",
       "      <td>Afghanistan</td>\n",
       "      <td>AF</td>\n",
       "      <td>AFG</td>\n",
       "    </tr>\n",
       "    <tr>\n",
       "      <td>1</td>\n",
       "      <td>3</td>\n",
       "      <td>Aland Islands</td>\n",
       "      <td>AX</td>\n",
       "      <td>ALA</td>\n",
       "    </tr>\n",
       "    <tr>\n",
       "      <td>2</td>\n",
       "      <td>4</td>\n",
       "      <td>Albania</td>\n",
       "      <td>AL</td>\n",
       "      <td>ALB</td>\n",
       "    </tr>\n",
       "    <tr>\n",
       "      <td>3</td>\n",
       "      <td>5</td>\n",
       "      <td>Algeria</td>\n",
       "      <td>DZ</td>\n",
       "      <td>DZA</td>\n",
       "    </tr>\n",
       "    <tr>\n",
       "      <td>4</td>\n",
       "      <td>6</td>\n",
       "      <td>American Samoa</td>\n",
       "      <td>AS</td>\n",
       "      <td>ASM</td>\n",
       "    </tr>\n",
       "  </tbody>\n",
       "</table>\n",
       "</div>"
      ],
      "text/plain": [
       "   Unnamed: 0    Country_name code_2digit code_3digit\n",
       "0           2     Afghanistan          AF         AFG\n",
       "1           3   Aland Islands          AX         ALA\n",
       "2           4         Albania          AL         ALB\n",
       "3           5         Algeria          DZ         DZA\n",
       "4           6  American Samoa          AS         ASM"
      ]
     },
     "execution_count": 80,
     "metadata": {},
     "output_type": "execute_result"
    }
   ],
   "source": [
    "country_codes.head()"
   ]
  },
  {
   "cell_type": "code",
   "execution_count": 82,
   "metadata": {},
   "outputs": [],
   "source": [
    "country_codes=country_codes[['Country_name','code_2digit']]"
   ]
  },
  {
   "cell_type": "code",
   "execution_count": 83,
   "metadata": {},
   "outputs": [],
   "source": [
    "country_codes=country_codes.rename(columns={\"Country_name\":\"Country\"})\n",
    "country_codes=country_codes.rename(columns={\"code_2digit\":\"Code\"})\n"
   ]
  },
  {
   "cell_type": "code",
   "execution_count": 98,
   "metadata": {},
   "outputs": [
    {
     "data": {
      "text/html": [
       "<div>\n",
       "<style scoped>\n",
       "    .dataframe tbody tr th:only-of-type {\n",
       "        vertical-align: middle;\n",
       "    }\n",
       "\n",
       "    .dataframe tbody tr th {\n",
       "        vertical-align: top;\n",
       "    }\n",
       "\n",
       "    .dataframe thead th {\n",
       "        text-align: right;\n",
       "    }\n",
       "</style>\n",
       "<table border=\"1\" class=\"dataframe\">\n",
       "  <thead>\n",
       "    <tr style=\"text-align: right;\">\n",
       "      <th></th>\n",
       "      <th>Country</th>\n",
       "      <th>Code</th>\n",
       "    </tr>\n",
       "  </thead>\n",
       "  <tbody>\n",
       "    <tr>\n",
       "      <td>152</td>\n",
       "      <td>Namibia</td>\n",
       "      <td>NaN</td>\n",
       "    </tr>\n",
       "  </tbody>\n",
       "</table>\n",
       "</div>"
      ],
      "text/plain": [
       "     Country Code\n",
       "152  Namibia  NaN"
      ]
     },
     "execution_count": 98,
     "metadata": {},
     "output_type": "execute_result"
    }
   ],
   "source": [
    "country_codes[country_codes['Code'].isnull()]"
   ]
  },
  {
   "cell_type": "code",
   "execution_count": 99,
   "metadata": {},
   "outputs": [
    {
     "data": {
      "text/html": [
       "<div>\n",
       "<style scoped>\n",
       "    .dataframe tbody tr th:only-of-type {\n",
       "        vertical-align: middle;\n",
       "    }\n",
       "\n",
       "    .dataframe tbody tr th {\n",
       "        vertical-align: top;\n",
       "    }\n",
       "\n",
       "    .dataframe thead th {\n",
       "        text-align: right;\n",
       "    }\n",
       "</style>\n",
       "<table border=\"1\" class=\"dataframe\">\n",
       "  <thead>\n",
       "    <tr style=\"text-align: right;\">\n",
       "      <th></th>\n",
       "      <th>Country</th>\n",
       "      <th>Code</th>\n",
       "    </tr>\n",
       "  </thead>\n",
       "  <tbody>\n",
       "  </tbody>\n",
       "</table>\n",
       "</div>"
      ],
      "text/plain": [
       "Empty DataFrame\n",
       "Columns: [Country, Code]\n",
       "Index: []"
      ]
     },
     "execution_count": 99,
     "metadata": {},
     "output_type": "execute_result"
    }
   ],
   "source": [
    "for i, r in country_codes.iterrows():\n",
    "    if(r['Country']=='Namibia'):\n",
    "        r['Code']='NA'\n",
    "country_codes[country_codes['Code'].isnull()]"
   ]
  },
  {
   "cell_type": "code",
   "execution_count": 105,
   "metadata": {},
   "outputs": [],
   "source": [
    "#to be deleted later\n",
    "all_df=all_df.rename(columns={\"Country Code\":\"Country_Code\"})"
   ]
  },
  {
   "cell_type": "code",
   "execution_count": 113,
   "metadata": {},
   "outputs": [],
   "source": [
    "select_df= select_df.rename(columns=str.lower)\n",
    "all_df= all_df.rename(columns=str.lower)\n",
    "country_codes= country_codes.rename(columns=str.lower)"
   ]
  },
  {
   "cell_type": "code",
   "execution_count": null,
   "metadata": {},
   "outputs": [],
   "source": []
  },
  {
   "cell_type": "code",
   "execution_count": null,
   "metadata": {},
   "outputs": [],
   "source": []
  },
  {
   "cell_type": "code",
   "execution_count": 114,
   "metadata": {},
   "outputs": [
    {
     "data": {
      "text/html": [
       "<div>\n",
       "<style scoped>\n",
       "    .dataframe tbody tr th:only-of-type {\n",
       "        vertical-align: middle;\n",
       "    }\n",
       "\n",
       "    .dataframe tbody tr th {\n",
       "        vertical-align: top;\n",
       "    }\n",
       "\n",
       "    .dataframe thead th {\n",
       "        text-align: right;\n",
       "    }\n",
       "</style>\n",
       "<table border=\"1\" class=\"dataframe\">\n",
       "  <thead>\n",
       "    <tr style=\"text-align: right;\">\n",
       "      <th></th>\n",
       "      <th>country</th>\n",
       "      <th>code</th>\n",
       "    </tr>\n",
       "  </thead>\n",
       "  <tbody>\n",
       "    <tr>\n",
       "      <td>0</td>\n",
       "      <td>Afghanistan</td>\n",
       "      <td>AF</td>\n",
       "    </tr>\n",
       "    <tr>\n",
       "      <td>1</td>\n",
       "      <td>Aland Islands</td>\n",
       "      <td>AX</td>\n",
       "    </tr>\n",
       "    <tr>\n",
       "      <td>2</td>\n",
       "      <td>Albania</td>\n",
       "      <td>AL</td>\n",
       "    </tr>\n",
       "    <tr>\n",
       "      <td>3</td>\n",
       "      <td>Algeria</td>\n",
       "      <td>DZ</td>\n",
       "    </tr>\n",
       "    <tr>\n",
       "      <td>4</td>\n",
       "      <td>American Samoa</td>\n",
       "      <td>AS</td>\n",
       "    </tr>\n",
       "  </tbody>\n",
       "</table>\n",
       "</div>"
      ],
      "text/plain": [
       "          country code\n",
       "0     Afghanistan   AF\n",
       "1   Aland Islands   AX\n",
       "2         Albania   AL\n",
       "3         Algeria   DZ\n",
       "4  American Samoa   AS"
      ]
     },
     "execution_count": 114,
     "metadata": {},
     "output_type": "execute_result"
    }
   ],
   "source": [
    "country_codes.head()"
   ]
  },
  {
   "cell_type": "code",
   "execution_count": 115,
   "metadata": {},
   "outputs": [
    {
     "data": {
      "text/html": [
       "<div>\n",
       "<style scoped>\n",
       "    .dataframe tbody tr th:only-of-type {\n",
       "        vertical-align: middle;\n",
       "    }\n",
       "\n",
       "    .dataframe tbody tr th {\n",
       "        vertical-align: top;\n",
       "    }\n",
       "\n",
       "    .dataframe thead th {\n",
       "        text-align: right;\n",
       "    }\n",
       "</style>\n",
       "<table border=\"1\" class=\"dataframe\">\n",
       "  <thead>\n",
       "    <tr style=\"text-align: right;\">\n",
       "      <th></th>\n",
       "      <th>country</th>\n",
       "      <th>city</th>\n",
       "      <th>celsius</th>\n",
       "      <th>fahrenheit</th>\n",
       "    </tr>\n",
       "  </thead>\n",
       "  <tbody>\n",
       "    <tr>\n",
       "      <td>0</td>\n",
       "      <td>Algeria</td>\n",
       "      <td>Algiers</td>\n",
       "      <td>17.4</td>\n",
       "      <td>63.3</td>\n",
       "    </tr>\n",
       "    <tr>\n",
       "      <td>1</td>\n",
       "      <td>Algeria</td>\n",
       "      <td>Tamanrasset</td>\n",
       "      <td>21.7</td>\n",
       "      <td>71.1</td>\n",
       "    </tr>\n",
       "    <tr>\n",
       "      <td>2</td>\n",
       "      <td>Algeria</td>\n",
       "      <td>Reggane</td>\n",
       "      <td>28.3</td>\n",
       "      <td>82.9</td>\n",
       "    </tr>\n",
       "    <tr>\n",
       "      <td>3</td>\n",
       "      <td>Angola</td>\n",
       "      <td>Luanda</td>\n",
       "      <td>25.8</td>\n",
       "      <td>78.4</td>\n",
       "    </tr>\n",
       "    <tr>\n",
       "      <td>4</td>\n",
       "      <td>Benin</td>\n",
       "      <td>Cotonou</td>\n",
       "      <td>27.2</td>\n",
       "      <td>81.0</td>\n",
       "    </tr>\n",
       "  </tbody>\n",
       "</table>\n",
       "</div>"
      ],
      "text/plain": [
       "   country         city  celsius  fahrenheit\n",
       "0  Algeria      Algiers     17.4        63.3\n",
       "1  Algeria  Tamanrasset     21.7        71.1\n",
       "2  Algeria      Reggane     28.3        82.9\n",
       "3   Angola       Luanda     25.8        78.4\n",
       "4    Benin      Cotonou     27.2        81.0"
      ]
     },
     "execution_count": 115,
     "metadata": {},
     "output_type": "execute_result"
    }
   ],
   "source": [
    "select_df.head()"
   ]
  },
  {
   "cell_type": "code",
   "execution_count": 116,
   "metadata": {},
   "outputs": [
    {
     "data": {
      "text/html": [
       "<div>\n",
       "<style scoped>\n",
       "    .dataframe tbody tr th:only-of-type {\n",
       "        vertical-align: middle;\n",
       "    }\n",
       "\n",
       "    .dataframe tbody tr th {\n",
       "        vertical-align: top;\n",
       "    }\n",
       "\n",
       "    .dataframe thead th {\n",
       "        text-align: right;\n",
       "    }\n",
       "</style>\n",
       "<table border=\"1\" class=\"dataframe\">\n",
       "  <thead>\n",
       "    <tr style=\"text-align: right;\">\n",
       "      <th></th>\n",
       "      <th>city</th>\n",
       "      <th>latitude</th>\n",
       "      <th>longitude</th>\n",
       "      <th>country_code</th>\n",
       "      <th>population</th>\n",
       "    </tr>\n",
       "  </thead>\n",
       "  <tbody>\n",
       "    <tr>\n",
       "      <td>0</td>\n",
       "      <td>les Escaldes</td>\n",
       "      <td>42.50729</td>\n",
       "      <td>1.53414</td>\n",
       "      <td>AD</td>\n",
       "      <td>15853</td>\n",
       "    </tr>\n",
       "    <tr>\n",
       "      <td>1</td>\n",
       "      <td>Andorra la Vella</td>\n",
       "      <td>42.50779</td>\n",
       "      <td>1.52109</td>\n",
       "      <td>AD</td>\n",
       "      <td>20430</td>\n",
       "    </tr>\n",
       "    <tr>\n",
       "      <td>2</td>\n",
       "      <td>Umm al Qaywayn</td>\n",
       "      <td>25.56473</td>\n",
       "      <td>55.55517</td>\n",
       "      <td>AE</td>\n",
       "      <td>44411</td>\n",
       "    </tr>\n",
       "    <tr>\n",
       "      <td>3</td>\n",
       "      <td>Ras al-Khaimah</td>\n",
       "      <td>25.78953</td>\n",
       "      <td>55.9432</td>\n",
       "      <td>AE</td>\n",
       "      <td>115949</td>\n",
       "    </tr>\n",
       "    <tr>\n",
       "      <td>4</td>\n",
       "      <td>Khawr Fakkan</td>\n",
       "      <td>25.33132</td>\n",
       "      <td>56.34199</td>\n",
       "      <td>AE</td>\n",
       "      <td>33575</td>\n",
       "    </tr>\n",
       "  </tbody>\n",
       "</table>\n",
       "</div>"
      ],
      "text/plain": [
       "               city  latitude longitude country_code population\n",
       "0      les Escaldes  42.50729   1.53414           AD      15853\n",
       "1  Andorra la Vella  42.50779   1.52109           AD      20430\n",
       "2    Umm al Qaywayn  25.56473  55.55517           AE      44411\n",
       "3    Ras al-Khaimah  25.78953   55.9432           AE     115949\n",
       "4      Khawr Fakkan  25.33132  56.34199           AE      33575"
      ]
     },
     "execution_count": 116,
     "metadata": {},
     "output_type": "execute_result"
    }
   ],
   "source": [
    "all_df.head()"
   ]
  },
  {
   "cell_type": "code",
   "execution_count": 127,
   "metadata": {},
   "outputs": [],
   "source": [
    "#username:password@localhost:5432/db_name\n",
    "rds_connection_string = \"postgres:postgres@localhost:5432/cities_db\"\n",
    "engine = create_engine(f'postgresql://{rds_connection_string}')"
   ]
  },
  {
   "cell_type": "code",
   "execution_count": 128,
   "metadata": {},
   "outputs": [
    {
     "data": {
      "text/plain": [
       "['all_cities', 'select_cities', 'country_codes']"
      ]
     },
     "execution_count": 128,
     "metadata": {},
     "output_type": "execute_result"
    }
   ],
   "source": [
    "engine.table_names()"
   ]
  },
  {
   "cell_type": "code",
   "execution_count": 138,
   "metadata": {},
   "outputs": [],
   "source": [
    "#Removing a faulty row where all the info was mis\n",
    "all_df = all_df.loc[all_df[\"city\"] != '-1.47663']"
   ]
  },
  {
   "cell_type": "code",
   "execution_count": null,
   "metadata": {},
   "outputs": [],
   "source": []
  },
  {
   "cell_type": "code",
   "execution_count": 139,
   "metadata": {},
   "outputs": [],
   "source": [
    "all_df.to_sql(name='all_cities', con=engine, if_exists='append', index=False)"
   ]
  },
  {
   "cell_type": "code",
   "execution_count": 136,
   "metadata": {},
   "outputs": [],
   "source": [
    "select_df.to_sql(name='select_cities', con=engine, if_exists='append', index=False)"
   ]
  },
  {
   "cell_type": "code",
   "execution_count": 137,
   "metadata": {},
   "outputs": [],
   "source": [
    "country_codes.to_sql(name='country_codes', con=engine, if_exists='append', index=False)"
   ]
  },
  {
   "cell_type": "code",
   "execution_count": null,
   "metadata": {},
   "outputs": [],
   "source": []
  },
  {
   "cell_type": "code",
   "execution_count": 140,
   "metadata": {
    "scrolled": true
   },
   "outputs": [
    {
     "data": {
      "text/html": [
       "<div>\n",
       "<style scoped>\n",
       "    .dataframe tbody tr th:only-of-type {\n",
       "        vertical-align: middle;\n",
       "    }\n",
       "\n",
       "    .dataframe tbody tr th {\n",
       "        vertical-align: top;\n",
       "    }\n",
       "\n",
       "    .dataframe thead th {\n",
       "        text-align: right;\n",
       "    }\n",
       "</style>\n",
       "<table border=\"1\" class=\"dataframe\">\n",
       "  <thead>\n",
       "    <tr style=\"text-align: right;\">\n",
       "      <th></th>\n",
       "      <th>id</th>\n",
       "      <th>city</th>\n",
       "      <th>latitude</th>\n",
       "      <th>longitude</th>\n",
       "      <th>country_code</th>\n",
       "      <th>population</th>\n",
       "    </tr>\n",
       "  </thead>\n",
       "  <tbody>\n",
       "    <tr>\n",
       "      <td>0</td>\n",
       "      <td>7675</td>\n",
       "      <td>les Escaldes</td>\n",
       "      <td>42.50729</td>\n",
       "      <td>1.53414</td>\n",
       "      <td>AD</td>\n",
       "      <td>15853</td>\n",
       "    </tr>\n",
       "    <tr>\n",
       "      <td>1</td>\n",
       "      <td>7676</td>\n",
       "      <td>Andorra la Vella</td>\n",
       "      <td>42.50779</td>\n",
       "      <td>1.52109</td>\n",
       "      <td>AD</td>\n",
       "      <td>20430</td>\n",
       "    </tr>\n",
       "    <tr>\n",
       "      <td>2</td>\n",
       "      <td>7677</td>\n",
       "      <td>Umm al Qaywayn</td>\n",
       "      <td>25.56473</td>\n",
       "      <td>55.55517</td>\n",
       "      <td>AE</td>\n",
       "      <td>44411</td>\n",
       "    </tr>\n",
       "    <tr>\n",
       "      <td>3</td>\n",
       "      <td>7678</td>\n",
       "      <td>Ras al-Khaimah</td>\n",
       "      <td>25.78953</td>\n",
       "      <td>55.94320</td>\n",
       "      <td>AE</td>\n",
       "      <td>115949</td>\n",
       "    </tr>\n",
       "    <tr>\n",
       "      <td>4</td>\n",
       "      <td>7679</td>\n",
       "      <td>Khawr Fakkan</td>\n",
       "      <td>25.33132</td>\n",
       "      <td>56.34199</td>\n",
       "      <td>AE</td>\n",
       "      <td>33575</td>\n",
       "    </tr>\n",
       "  </tbody>\n",
       "</table>\n",
       "</div>"
      ],
      "text/plain": [
       "     id              city  latitude  longitude country_code  population\n",
       "0  7675      les Escaldes  42.50729    1.53414           AD       15853\n",
       "1  7676  Andorra la Vella  42.50779    1.52109           AD       20430\n",
       "2  7677    Umm al Qaywayn  25.56473   55.55517           AE       44411\n",
       "3  7678    Ras al-Khaimah  25.78953   55.94320           AE      115949\n",
       "4  7679      Khawr Fakkan  25.33132   56.34199           AE       33575"
      ]
     },
     "execution_count": 140,
     "metadata": {},
     "output_type": "execute_result"
    }
   ],
   "source": [
    "pd.read_sql_query('select * from all_cities', con=engine).head()"
   ]
  },
  {
   "cell_type": "code",
   "execution_count": 141,
   "metadata": {},
   "outputs": [
    {
     "data": {
      "text/html": [
       "<div>\n",
       "<style scoped>\n",
       "    .dataframe tbody tr th:only-of-type {\n",
       "        vertical-align: middle;\n",
       "    }\n",
       "\n",
       "    .dataframe tbody tr th {\n",
       "        vertical-align: top;\n",
       "    }\n",
       "\n",
       "    .dataframe thead th {\n",
       "        text-align: right;\n",
       "    }\n",
       "</style>\n",
       "<table border=\"1\" class=\"dataframe\">\n",
       "  <thead>\n",
       "    <tr style=\"text-align: right;\">\n",
       "      <th></th>\n",
       "      <th>id</th>\n",
       "      <th>country</th>\n",
       "      <th>city</th>\n",
       "      <th>celsius</th>\n",
       "      <th>fahrenheit</th>\n",
       "    </tr>\n",
       "  </thead>\n",
       "  <tbody>\n",
       "    <tr>\n",
       "      <td>0</td>\n",
       "      <td>1</td>\n",
       "      <td>Algeria</td>\n",
       "      <td>Algiers</td>\n",
       "      <td>17.4</td>\n",
       "      <td>63.3</td>\n",
       "    </tr>\n",
       "    <tr>\n",
       "      <td>1</td>\n",
       "      <td>2</td>\n",
       "      <td>Algeria</td>\n",
       "      <td>Tamanrasset</td>\n",
       "      <td>21.7</td>\n",
       "      <td>71.1</td>\n",
       "    </tr>\n",
       "    <tr>\n",
       "      <td>2</td>\n",
       "      <td>3</td>\n",
       "      <td>Algeria</td>\n",
       "      <td>Reggane</td>\n",
       "      <td>28.3</td>\n",
       "      <td>82.9</td>\n",
       "    </tr>\n",
       "    <tr>\n",
       "      <td>3</td>\n",
       "      <td>4</td>\n",
       "      <td>Angola</td>\n",
       "      <td>Luanda</td>\n",
       "      <td>25.8</td>\n",
       "      <td>78.4</td>\n",
       "    </tr>\n",
       "    <tr>\n",
       "      <td>4</td>\n",
       "      <td>5</td>\n",
       "      <td>Benin</td>\n",
       "      <td>Cotonou</td>\n",
       "      <td>27.2</td>\n",
       "      <td>81.0</td>\n",
       "    </tr>\n",
       "  </tbody>\n",
       "</table>\n",
       "</div>"
      ],
      "text/plain": [
       "   id  country         city  celsius  fahrenheit\n",
       "0   1  Algeria      Algiers     17.4        63.3\n",
       "1   2  Algeria  Tamanrasset     21.7        71.1\n",
       "2   3  Algeria      Reggane     28.3        82.9\n",
       "3   4   Angola       Luanda     25.8        78.4\n",
       "4   5    Benin      Cotonou     27.2        81.0"
      ]
     },
     "execution_count": 141,
     "metadata": {},
     "output_type": "execute_result"
    }
   ],
   "source": [
    "pd.read_sql_query('select * from select_cities', con=engine).head()"
   ]
  },
  {
   "cell_type": "code",
   "execution_count": 142,
   "metadata": {},
   "outputs": [
    {
     "data": {
      "text/html": [
       "<div>\n",
       "<style scoped>\n",
       "    .dataframe tbody tr th:only-of-type {\n",
       "        vertical-align: middle;\n",
       "    }\n",
       "\n",
       "    .dataframe tbody tr th {\n",
       "        vertical-align: top;\n",
       "    }\n",
       "\n",
       "    .dataframe thead th {\n",
       "        text-align: right;\n",
       "    }\n",
       "</style>\n",
       "<table border=\"1\" class=\"dataframe\">\n",
       "  <thead>\n",
       "    <tr style=\"text-align: right;\">\n",
       "      <th></th>\n",
       "      <th>id</th>\n",
       "      <th>country</th>\n",
       "      <th>code</th>\n",
       "    </tr>\n",
       "  </thead>\n",
       "  <tbody>\n",
       "    <tr>\n",
       "      <td>0</td>\n",
       "      <td>1</td>\n",
       "      <td>Afghanistan</td>\n",
       "      <td>AF</td>\n",
       "    </tr>\n",
       "    <tr>\n",
       "      <td>1</td>\n",
       "      <td>2</td>\n",
       "      <td>Aland Islands</td>\n",
       "      <td>AX</td>\n",
       "    </tr>\n",
       "    <tr>\n",
       "      <td>2</td>\n",
       "      <td>3</td>\n",
       "      <td>Albania</td>\n",
       "      <td>AL</td>\n",
       "    </tr>\n",
       "    <tr>\n",
       "      <td>3</td>\n",
       "      <td>4</td>\n",
       "      <td>Algeria</td>\n",
       "      <td>DZ</td>\n",
       "    </tr>\n",
       "    <tr>\n",
       "      <td>4</td>\n",
       "      <td>5</td>\n",
       "      <td>American Samoa</td>\n",
       "      <td>AS</td>\n",
       "    </tr>\n",
       "  </tbody>\n",
       "</table>\n",
       "</div>"
      ],
      "text/plain": [
       "   id         country code\n",
       "0   1     Afghanistan   AF\n",
       "1   2   Aland Islands   AX\n",
       "2   3         Albania   AL\n",
       "3   4         Algeria   DZ\n",
       "4   5  American Samoa   AS"
      ]
     },
     "execution_count": 142,
     "metadata": {},
     "output_type": "execute_result"
    }
   ],
   "source": [
    "pd.read_sql_query('select * from country_codes', con=engine).head()"
   ]
  },
  {
   "cell_type": "code",
   "execution_count": null,
   "metadata": {},
   "outputs": [],
   "source": []
  }
 ],
 "metadata": {
  "kernelspec": {
   "display_name": "Python 3 (ipykernel)",
   "language": "python",
   "name": "python3"
  },
  "language_info": {
   "codemirror_mode": {
    "name": "ipython",
    "version": 3
   },
   "file_extension": ".py",
   "mimetype": "text/x-python",
   "name": "python",
   "nbconvert_exporter": "python",
   "pygments_lexer": "ipython3",
   "version": "3.8.10"
  }
 },
 "nbformat": 4,
 "nbformat_minor": 2
}
